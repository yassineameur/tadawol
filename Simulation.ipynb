{
 "cells": [
  {
   "cell_type": "markdown",
   "metadata": {},
   "source": [
    "## Simulation"
   ]
  },
  {
   "cell_type": "code",
   "execution_count": null,
   "metadata": {},
   "outputs": [],
   "source": [
    "from tadawol.history import get_top_tickers\n",
    "from tadawol.strategies import recovery\n",
    "from tadawol.strategies import macd\n",
    "\n",
    "top_tickers = get_top_tickers(0, 300)\n",
    "strategy = macd.MACD()\n",
    "data = strategy.simulate(top_tickers)\n",
    "print(\"Entries number = \", data.shape)"
   ]
  },
  {
   "cell_type": "markdown",
   "metadata": {},
   "source": [
    "## Add companies general data"
   ]
  },
  {
   "cell_type": "code",
   "execution_count": null,
   "metadata": {},
   "outputs": [],
   "source": [
    "# JOIN RESULTS WITH TICKERS DATA\n",
    "import pandas as pd\n",
    "from math import log\n",
    "\n",
    "\n",
    "from tadawol import history\n",
    "\n",
    "tickers_data = pd.read_csv(history.TICKERS_LIST_PATH)\n",
    "\n",
    "data = pd.merge(tickers_data, data, on=\"Ticker\", how=\"inner\")\n",
    "data.rename(columns={\"Volume_y\": \"Volume\"}, inplace=True)\n"
   ]
  },
  {
   "cell_type": "markdown",
   "metadata": {},
   "source": [
    "## Get earnings"
   ]
  },
  {
   "cell_type": "code",
   "execution_count": null,
   "metadata": {},
   "outputs": [],
   "source": [
    "from tadawol.earnings import get_earnings_data_on_all_dates\n",
    "\n",
    "earnings_by_date = get_earnings_data_on_all_dates(data)\n",
    "data_with_earnings = pd.merge(data, earnings_by_date, on=[\"Ticker\", \"Date\"])\n",
    "\n",
    "print(\"SHAPES RATIO = \", round(data_with_earnings.shape[0]/data.shape[0], 2))\n"
   ]
  },
  {
   "cell_type": "markdown",
   "metadata": {},
   "source": [
    "## Helper functions"
   ]
  },
  {
   "cell_type": "code",
   "execution_count": null,
   "metadata": {},
   "outputs": [],
   "source": [
    "from math import log\n",
    "\n",
    "def get_volume_category(volume):\n",
    "    if log(volume) <= 14:\n",
    "        return \"Low Volume\"\n",
    "    if log(volume) <= 16:\n",
    "        return \"Medium Volume\"\n",
    "    return \"High Volume\"\n",
    "\n",
    "data_with_earnings[\"Volume_category\"] = data_with_earnings.Volume.map(get_volume_category)\n"
   ]
  },
  {
   "cell_type": "code",
   "execution_count": null,
   "metadata": {},
   "outputs": [],
   "source": [
    "def print_results_data(df):\n",
    "    print(\"days_since_last_result : \", df[\"days_since_last_result\"].mean())\n",
    "    print(\"days_to_next_result : \", df[\"days_to_next_result\"].mean())\n",
    "    print(\"average earnings surprise: \", df[\"earnings_surprise\"].mean())\n",
    "    \n",
    "def print_results_by_column(df):\n",
    "    \n",
    "    bad_results = df[df[\"win_percent\"] < -3]\n",
    "    good_results = df[df[\"win_percent\"] > 3]\n",
    "    \n",
    "    columns = [\"days_since_last_result\", \"days_to_next_result\", \"earnings_surprise\", \"exit_date\", \"week_previous_entries\"]\n",
    "    \n",
    "    for column in columns:\n",
    "        print(f\"***** {column} *****\")\n",
    "        print(\"Bad result : \", round(bad_results[column].mean(), 2))\n",
    "        print(\"Good result : \", round(good_results[column].mean(), 2))\n"
   ]
  },
  {
   "cell_type": "code",
   "execution_count": null,
   "metadata": {},
   "outputs": [],
   "source": [
    "import pandas as pd\n",
    "import statistics \n",
    "import matplotlib.pyplot as plt\n",
    "from datetime import datetime, timedelta\n",
    "from prettytable import PrettyTable\n",
    "\n",
    "def _performance_by(df, column, index):\n",
    "    \n",
    "    x = []\n",
    "    labels = []\n",
    "    occurences = []\n",
    "    win_percents = []\n",
    "    i = 1\n",
    "    for column_value, column_data in df.groupby([column]):\n",
    "        labels.append(column_value)\n",
    "        x.append(i)\n",
    "        occurences.append(column_data.shape[0])\n",
    "        win_percent = column_data[\"win_percent\"].mean()\n",
    "        win_percents.append(win_percent)\n",
    "        i += 1\n",
    "    \n",
    "    f = plt.figure(index)\n",
    "    plt.plot(x, occurences)\n",
    "    plt.plot(x, len(x)* [statistics.mean(occurences)])\n",
    "    plt.xticks(x, labels, rotation='vertical')\n",
    "    f.show()\n",
    "    \n",
    "    index += 1\n",
    "    g = plt.figure(index)\n",
    "    plt.plot(x, win_percents)\n",
    "    plt.plot(x, len(x)* [0])\n",
    "    plt.xticks(x, labels, rotation='vertical')\n",
    "    g.show()\n",
    "\n",
    "\n",
    "def simulate_trades(df, total_amount: int, min_invest_per_trade: float, max_trades_by_day):\n",
    "    \n",
    "    transaction_min = min_invest_per_trade * total_amount\n",
    "    transaction_max = 2 * transaction_min\n",
    "    current_amount = total_amount\n",
    "    df = df.sort_values(by=\"Date\", ascending=True)\n",
    "    date = df[\"Date\"].min()\n",
    "    \n",
    "    returned_money_by_date = dict()\n",
    "    trade_fees = 0\n",
    "    realized_trades = []\n",
    "    while date < datetime.now():\n",
    "        #recuperate money\n",
    "        money_to_recupere = returned_money_by_date.get(date, 0)\n",
    "        current_amount += money_to_recupere\n",
    "        returned_money_by_date[date] = 0\n",
    "        \n",
    "        # see available money\n",
    "        day_trades = df[df[\"Date\"] == date]\n",
    "        \n",
    "        #print(returned_money_by_date)\n",
    "        day_trades_number = min(day_trades.shape[0], max_trades_by_day)\n",
    "        if day_trades_number == 0 or current_amount/day_trades_number < transaction_min:\n",
    "            date += timedelta(days=1)\n",
    "            continue\n",
    "        \n",
    "        money_by_trade = current_amount/day_trades_number\n",
    "        money_by_trade = min(money_by_trade, transaction_max)\n",
    "        \n",
    "        \n",
    "        # SORT BY EARNINGS\n",
    "        day_trades.sort_values(by=\"earnings_surprise\", ascending=False, inplace=True)\n",
    "        \n",
    "        trade_number = 0\n",
    "        for _, trade_row in day_trades.iterrows():\n",
    "            trade_number += 1\n",
    "            \n",
    "            current_amount -= money_by_trade\n",
    "            trade_fees += 2\n",
    "            # add money to exit\n",
    "            \n",
    "            money_to_be_returned = (1 + trade_row[\"win_percent\"]/100.0) * money_by_trade\n",
    "            \n",
    "            exit_date =date + timedelta(days=trade_row[\"exit_date\"])\n",
    "            returned_money_on_exit = returned_money_by_date.get(exit_date, 0)\n",
    "            returned_money_by_date[exit_date] = returned_money_on_exit + money_to_be_returned\n",
    "            \n",
    "            realized_trades.append(\n",
    "                [\n",
    "                    trade_row[\"Ticker\"], \n",
    "                    date, \n",
    "                    trade_row[\"exit_date\"],\n",
    "                    trade_row[\"Close\"], \n",
    "                    trade_row[\"exit_price\"], \n",
    "                    trade_row[\"win_percent\"]\n",
    "                ]\n",
    "            )\n",
    "            \n",
    "            if trade_number == day_trades_number:\n",
    "                break\n",
    "        \n",
    "        date += timedelta(days=1)\n",
    "        \n",
    "    rest_money = 0\n",
    "    for m in returned_money_by_date.values():\n",
    "        rest_money += m\n",
    "    \n",
    "    \n",
    "    win = rest_money + current_amount - total_amount\n",
    "    realized_trades_df = pd.DataFrame(\n",
    "        data=realized_trades, \n",
    "        columns=[\"Ticker\", \"Date\", \"Exit date\", \"Enter price\", \"Exit price\", \"win_percent\"])\n",
    "    return win, trade_fees, realized_trades_df\n",
    "\n",
    "def plot_trades(trades_df, plot_index):\n",
    "    \n",
    "    months = []\n",
    "    win_percents = []\n",
    "    \n",
    "    trades_df[\"month\"] = trades_df[\"Date\"].map(lambda x: datetime(x.year, x.month, 1))\n",
    "    \n",
    "    for month, month_trades in trades_df.groupby([\"month\"]):\n",
    "        trades_product = 1\n",
    "        months.append(month)\n",
    "        win_percents.append( month_trades[\"win_percent\"].mean())\n",
    "        \n",
    "    f = plt.figure(plot_index)\n",
    "    x = range(1, len(months) + 1)\n",
    "    plt.plot(x, win_percents)\n",
    "    plt.plot(x, len(win_percents) * [0])\n",
    "    plt.xticks(x, months, rotation='vertical')\n",
    "    f.show()\n",
    "    \n",
    "def analyse_results(df: pd.DataFrame, print_figures: bool = True, total_amount=20000, min_invest_per_trade=0.02, max_trades_by_day=4) -> None:\n",
    "    assert 0 < min_invest_per_trade <= 0.1\n",
    "    df = df.copy(deep=True)\n",
    "    min_date = df[\"Date\"].min()\n",
    "    max_date = df[\"Date\"].max()\n",
    "    days_number = (5.0 / 7.0) * (max_date - min_date).total_seconds() / (60 * 60 * 24)\n",
    "    win, trade_fees, realized_trades_df = simulate_trades(df, total_amount, min_invest_per_trade, max_trades_by_day)\n",
    "    \n",
    "    \n",
    "    x = PrettyTable()\n",
    "    x.field_names = [\"KPI\", \"value\"]\n",
    "\n",
    "    x.add_row([\"Enter cases number\", df.shape[0]])\n",
    "    x.add_row([\"Cases number per day\", round(df.shape[0]/days_number, 2)])\n",
    "    x.add_row([\"Average winning cases\", round(100 * df[df[\"win_percent\"] >= 0].shape[0] / df.shape[0], 1)])\n",
    "    x.add_row([\"Average win\", round(df[\"win_percent\"].mean(), 2)])\n",
    "    x.add_row([f\"Win for {round(total_amount/1000)} K€\", round(win)])\n",
    "    x.add_row([\"Trade fees\", trade_fees])\n",
    "    x.add_row([\"Trade number\", realized_trades_df.shape[0]])\n",
    "    x.add_row([\"Total margin\", round(100 * (win - trade_fees)/total_amount, 1)])\n",
    "    print(x)\n",
    "    df.loc[:, \"win_percent\"] = df[\"win_percent\"].astype(float)\n",
    "    df[[\"win_percent\"]].hist(bins=50)\n",
    "    \n",
    "    plot_trades(realized_trades_df, 2)\n",
    "    \n",
    "    if not print_figures:\n",
    "        return None\n",
    "    \n",
    "        \n",
    "    df.loc[:, \"month\"] = df['Date'].map(lambda x: f\"{x.month}/{x.year}\")\n",
    "    \n",
    "    \n",
    "    index = 3\n",
    "    labels = [\"month\", \"Country\", \"Sector\", \"week_previous_entries\", \"Volume_category\"]\n",
    "    for label in labels:\n",
    "        _performance_by(df, label, index)\n",
    "        index += 2\n",
    "        \n",
    "    return None\n",
    "\n",
    "\n",
    "def print_cases(df: pd.DataFrame, bad=True, start=0, end=10):\n",
    "    \n",
    "    df = df.copy(deep=True)\n",
    "    ascending = True\n",
    "    if not bad:\n",
    "        ascending = False\n",
    "    df.sort_values(by=[\"win_percent\", \"Date\"], ascending=ascending, inplace=True)\n",
    "    df.reset_index(drop=True, inplace=True)\n",
    "    \n",
    "    columns = [\n",
    "        \"Ticker\", \"Date\", \"win_percent\", \"company_short_name\", \n",
    "        \"Country\", \"Sector\", \"days_to_next_result\", \"days_since_last_result\",\"exit_date\", \n",
    "        \"Close\", \"Open\", \"exit_price\", \"Close_ema_30\", \"Close_ema_15\", \"macd\", \"macd_ema_9\"]\n",
    "    df = df[columns]\n",
    "    df = df.loc[start:end]\n",
    "    return df\n",
    "    "
   ]
  },
  {
   "cell_type": "code",
   "execution_count": null,
   "metadata": {},
   "outputs": [],
   "source": [
    "trades = analyse_results(data_with_earnings, print_figures=True, max_trades_by_day=2, min_invest_per_trade=0.04)"
   ]
  },
  {
   "cell_type": "markdown",
   "metadata": {},
   "source": [
    "### Clean data"
   ]
  },
  {
   "cell_type": "code",
   "execution_count": null,
   "metadata": {},
   "outputs": [],
   "source": [
    "import numpy as np\n",
    "from datetime import datetime\n",
    "\n",
    "# Avoid coronavirus period\n",
    "cleaned_data = data_with_earnings[data_with_earnings[\"Date\"] < datetime(2020, 1, 1)] \n",
    "# Avoid 2018 little crisis\n",
    "cleaned_data = cleaned_data[(cleaned_data[\"Date\"] < datetime(2018, 11, 1)) | (cleaned_data[\"Date\"] > datetime(2018, 12, 31))]"
   ]
  },
  {
   "cell_type": "markdown",
   "metadata": {},
   "source": [
    "## Simulate top tickers"
   ]
  },
  {
   "cell_type": "code",
   "execution_count": null,
   "metadata": {},
   "outputs": [],
   "source": [
    "# Take 100 top tickers\n",
    "top_tickers = get_top_tickers(0, 300)\n",
    "top_companies_trades = cleaned_data[cleaned_data[\"Ticker\"].isin(top_tickers)]\n",
    "analyse_results(top_companies_trades, True, total_amount=20000, max_trades_by_day=4, min_invest_per_trade=0.04)\n"
   ]
  },
  {
   "cell_type": "code",
   "execution_count": null,
   "metadata": {},
   "outputs": [],
   "source": [
    "print_results_by_column(df)"
   ]
  },
  {
   "cell_type": "code",
   "execution_count": null,
   "metadata": {},
   "outputs": [],
   "source": [
    "bad_tickers = [\"TSLA\", \"SHOP\", \"QCOM\", \"ORCL\", \"INTC\"]\n",
    "trades = top_companies_trades[~top_companies_trades[\"Ticker\"].isin(bad_tickers)]\n",
    "analyse_results(trades, False, total_amount=20000, max_trades_by_day=2, min_invest_per_trade=0.04)"
   ]
  },
  {
   "cell_type": "code",
   "execution_count": null,
   "metadata": {},
   "outputs": [],
   "source": [
    "ticker = \"\"\n",
    "ticker_trades = top_companies_trades[top_companies_trades[\"Ticker\"] == ticker]\n",
    "ticker_trades[[\"Ticker\", \"Date\", \"win_percent\", \"exit_date\", \"exit_reason\"]]\n",
    "print_results_by_column(top_companies_trades)"
   ]
  },
  {
   "cell_type": "markdown",
   "metadata": {},
   "source": [
    "## LABORATORY"
   ]
  },
  {
   "cell_type": "code",
   "execution_count": null,
   "metadata": {},
   "outputs": [],
   "source": [
    "# Try losing days\n",
    "\n",
    "df = top_companies_trades.copy(deep=True)#[cleaned_data[\"Close\"] < 1 * cleaned_data[\"Open\"]]\n",
    "df = df[df[\"days_to_next_result\"] > 20]\n",
    "df = df[df[\"days_since_last_result\"] > 0]\n",
    "#df = df[df[\"earnings_surprise\"] > 3]\n",
    "df = df[df[\"week_previous_entries\"] >= 1]\n",
    "analyse_results(df, False, total_amount=20000, max_trades_by_day=10, min_invest_per_trade=0.05)"
   ]
  },
  {
   "cell_type": "code",
   "execution_count": null,
   "metadata": {},
   "outputs": [],
   "source": [
    "print_cases(df, False, 10, 20)"
   ]
  },
  {
   "cell_type": "markdown",
   "metadata": {},
   "source": [
    "## END LABORATORY"
   ]
  },
  {
   "cell_type": "markdown",
   "metadata": {},
   "source": [
    "## Today results"
   ]
  },
  {
   "cell_type": "code",
   "execution_count": 1,
   "metadata": {},
   "outputs": [
    {
     "name": "stderr",
     "output_type": "stream",
     "text": [
      "2020-09-09 21:07:44,486 tadawol.history INFO     Fetching data for 11 tickers\n",
      "2020-09-09 21:07:51,889 tadawol.history INFO     Treated 91% of tickers\n",
      "2020-09-09 21:07:52,722 tadawol.strategies.base_strategy INFO     Simulating strategy for 9 tickers\n",
      "2020-09-09 21:07:55,281 tadawol.earnings INFO     Tickers number = 0\n",
      "2020-09-09 21:08:01,720 tadawol.earnings INFO     Putting data into dataframe ...: rows number = 0\n",
      "2020-09-09 21:08:01,723 tadawol.earnings INFO     Adding features ...\n"
     ]
    }
   ],
   "source": [
    "import pandas as pd\n",
    "\n",
    "from tadawol.strategies import recovery\n",
    "from tadawol.strategies import macd\n",
    "from tadawol.history import get_top_tickers\n",
    "from tadawol.earnings import get_earnings_data_on_all_dates\n",
    "\n",
    "strategy = macd.MACD()\n",
    "\n",
    "tickers = get_top_tickers(0, 10)\n",
    "today_trades, today_exits = strategy.get_today_trades_and_exits(tickers)\n",
    "\n",
    "\n",
    "earnings_by_date = get_earnings_data_on_all_dates(today_trades)\n",
    "today_trades = pd.merge(today_trades, earnings_by_date, on=[\"Ticker\", \"Date\"])\n",
    "today_trades = today_trades[today_trades[\"days_to_next_result\"] > 20]\n",
    "today_trades = today_trades[today_trades[\"days_since_last_result\"] > 0]\n",
    "today_trades = today_trades[today_trades[\"week_previous_entries\"] >= 1]\n",
    "\n"
   ]
  },
  {
   "cell_type": "code",
   "execution_count": 3,
   "metadata": {},
   "outputs": [
    {
     "data": {
      "text/html": [
       "<div>\n",
       "<style scoped>\n",
       "    .dataframe tbody tr th:only-of-type {\n",
       "        vertical-align: middle;\n",
       "    }\n",
       "\n",
       "    .dataframe tbody tr th {\n",
       "        vertical-align: top;\n",
       "    }\n",
       "\n",
       "    .dataframe thead th {\n",
       "        text-align: right;\n",
       "    }\n",
       "</style>\n",
       "<table border=\"1\" class=\"dataframe\">\n",
       "  <thead>\n",
       "    <tr style=\"text-align: right;\">\n",
       "      <th></th>\n",
       "      <th>Date</th>\n",
       "      <th>Open</th>\n",
       "      <th>High</th>\n",
       "      <th>Low</th>\n",
       "      <th>Close</th>\n",
       "      <th>Adj Close</th>\n",
       "      <th>Volume</th>\n",
       "      <th>Ticker</th>\n",
       "      <th>Close_ema_30</th>\n",
       "      <th>Close_ema_15</th>\n",
       "      <th>...</th>\n",
       "      <th>exit_price</th>\n",
       "      <th>exit_date</th>\n",
       "      <th>exit_reason</th>\n",
       "      <th>win_percent</th>\n",
       "      <th>Date_1</th>\n",
       "      <th>Date_2</th>\n",
       "      <th>Date_3</th>\n",
       "      <th>Date_4</th>\n",
       "      <th>week_previous_entries</th>\n",
       "      <th>exit</th>\n",
       "    </tr>\n",
       "  </thead>\n",
       "  <tbody>\n",
       "  </tbody>\n",
       "</table>\n",
       "<p>0 rows × 76 columns</p>\n",
       "</div>"
      ],
      "text/plain": [
       "Empty DataFrame\n",
       "Columns: [Date, Open, High, Low, Close, Adj Close, Volume, Ticker, Close_ema_30, Close_ema_15, macd, macd_ema_9, emas_diff, emas_diff_ema_2, evolution_emas_diff, Close_ema_5, good_ema, entry, good_evolution, go-on, Close_1, Open_1, go-on_1, Close_2, Open_2, go-on_2, Close_3, Open_3, go-on_3, Close_4, Open_4, go-on_4, Close_5, Open_5, go-on_5, Close_6, Open_6, go-on_6, Close_7, Open_7, go-on_7, Close_8, Open_8, go-on_8, Close_9, Open_9, go-on_9, Close_10, Open_10, go-on_10, Close_11, Open_11, go-on_11, Close_12, Open_12, go-on_12, Close_13, Open_13, go-on_13, Close_14, Open_14, go-on_14, Close_15, Open_15, go-on_15, exit_data, exit_price, exit_date, exit_reason, win_percent, Date_1, Date_2, Date_3, Date_4, week_previous_entries, exit]\n",
       "Index: []\n",
       "\n",
       "[0 rows x 76 columns]"
      ]
     },
     "execution_count": 3,
     "metadata": {},
     "output_type": "execute_result"
    }
   ],
   "source": [
    "today_exits\n"
   ]
  },
  {
   "cell_type": "code",
   "execution_count": null,
   "metadata": {
    "scrolled": true
   },
   "outputs": [],
   "source": [
    "today_trades"
   ]
  },
  {
   "cell_type": "code",
   "execution_count": null,
   "metadata": {},
   "outputs": [],
   "source": [
    "today_trades.to_string(columns=[\"Date\", \"Ticker\", \"company_short_name\", \"week_previous_entries\", \"earnings_surprise\"])"
   ]
  },
  {
   "cell_type": "code",
   "execution_count": null,
   "metadata": {},
   "outputs": [],
   "source": [
    "columns = [\n",
    "        \"Date\", \"Ticker\", \"company_short_name\", \"Close\", \"week_previous_entries\",\n",
    "        \"earnings_surprise\", \"days_to_next_result\", \"exit_reason\"]\n",
    "\n",
    "tr = today_trades[columns]"
   ]
  },
  {
   "cell_type": "code",
   "execution_count": null,
   "metadata": {},
   "outputs": [],
   "source": [
    "z = columns.copy()"
   ]
  },
  {
   "cell_type": "code",
   "execution_count": null,
   "metadata": {},
   "outputs": [],
   "source": [
    "z"
   ]
  },
  {
   "cell_type": "code",
   "execution_count": null,
   "metadata": {},
   "outputs": [],
   "source": []
  }
 ],
 "metadata": {
  "kernelspec": {
   "display_name": "Python 3",
   "language": "python",
   "name": "python3"
  },
  "language_info": {
   "codemirror_mode": {
    "name": "ipython",
    "version": 3
   },
   "file_extension": ".py",
   "mimetype": "text/x-python",
   "name": "python",
   "nbconvert_exporter": "python",
   "pygments_lexer": "ipython3",
   "version": "3.7.4"
  }
 },
 "nbformat": 4,
 "nbformat_minor": 4
}
