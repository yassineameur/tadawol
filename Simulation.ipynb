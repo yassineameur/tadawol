{
 "cells": [
  {
   "cell_type": "markdown",
   "metadata": {},
   "source": [
    "## Simulation"
   ]
  },
  {
   "cell_type": "code",
   "execution_count": 1,
   "metadata": {},
   "outputs": [
    {
     "name": "stderr",
     "output_type": "stream",
     "text": [
      "2020-11-10 00:11:37,675 tadawol.history INFO     Historical data is extracted, rows_umber = 1350936\n",
      "2020-11-10 00:11:37,874 tadawol.strategies.base_strategy INFO     Simulating strategy for 495 tickers\n",
      "2020-11-10 00:12:03,509 tadawol.strategies.base_strategy INFO     Simulation in progress : 4%\n",
      "2020-11-10 00:12:28,139 tadawol.strategies.base_strategy INFO     Simulation in progress : 8%\n",
      "2020-11-10 00:12:53,566 tadawol.strategies.base_strategy INFO     Simulation in progress : 12%\n",
      "2020-11-10 00:13:19,297 tadawol.strategies.base_strategy INFO     Simulation in progress : 16%\n",
      "2020-11-10 00:13:43,385 tadawol.strategies.base_strategy INFO     Simulation in progress : 20%\n",
      "2020-11-10 00:14:08,838 tadawol.strategies.base_strategy INFO     Simulation in progress : 24%\n",
      "2020-11-10 00:14:33,063 tadawol.strategies.base_strategy INFO     Simulation in progress : 28%\n",
      "2020-11-10 00:14:55,872 tadawol.strategies.base_strategy INFO     Simulation in progress : 32%\n",
      "2020-11-10 00:15:21,062 tadawol.strategies.base_strategy INFO     Simulation in progress : 36%\n",
      "2020-11-10 00:15:45,402 tadawol.strategies.base_strategy INFO     Simulation in progress : 40%\n",
      "2020-11-10 00:16:14,269 tadawol.strategies.base_strategy INFO     Simulation in progress : 44%\n",
      "2020-11-10 00:16:39,746 tadawol.strategies.base_strategy INFO     Simulation in progress : 48%\n",
      "2020-11-10 00:17:06,002 tadawol.strategies.base_strategy INFO     Simulation in progress : 53%\n",
      "2020-11-10 00:17:31,682 tadawol.strategies.base_strategy INFO     Simulation in progress : 57%\n",
      "2020-11-10 00:17:59,292 tadawol.strategies.base_strategy INFO     Simulation in progress : 61%\n",
      "2020-11-10 00:18:26,231 tadawol.strategies.base_strategy INFO     Simulation in progress : 65%\n",
      "2020-11-10 00:18:51,210 tadawol.strategies.base_strategy INFO     Simulation in progress : 69%\n",
      "2020-11-10 00:19:16,530 tadawol.strategies.base_strategy INFO     Simulation in progress : 73%\n",
      "2020-11-10 00:19:41,710 tadawol.strategies.base_strategy INFO     Simulation in progress : 77%\n",
      "2020-11-10 00:20:06,047 tadawol.strategies.base_strategy INFO     Simulation in progress : 81%\n",
      "2020-11-10 00:20:31,869 tadawol.strategies.base_strategy INFO     Simulation in progress : 85%\n",
      "2020-11-10 00:20:58,130 tadawol.strategies.base_strategy INFO     Simulation in progress : 89%\n",
      "2020-11-10 00:21:21,277 tadawol.strategies.base_strategy INFO     Simulation in progress : 93%\n",
      "2020-11-10 00:21:44,780 tadawol.strategies.base_strategy INFO     Simulation in progress : 97%\n",
      "2020-11-10 00:22:18,917 tadawol.history INFO     Historical data is extracted, rows_umber = 1350936\n",
      "2020-11-10 00:22:19,065 tadawol.strategies.base_strategy INFO     Simulating strategy for 495 tickers\n",
      "2020-11-10 00:22:45,700 tadawol.strategies.base_strategy INFO     Simulation in progress : 4%\n",
      "2020-11-10 00:23:12,046 tadawol.strategies.base_strategy INFO     Simulation in progress : 8%\n",
      "2020-11-10 00:23:38,820 tadawol.strategies.base_strategy INFO     Simulation in progress : 12%\n",
      "2020-11-10 00:24:06,348 tadawol.strategies.base_strategy INFO     Simulation in progress : 16%\n",
      "2020-11-10 00:24:31,138 tadawol.strategies.base_strategy INFO     Simulation in progress : 20%\n",
      "2020-11-10 00:24:57,818 tadawol.strategies.base_strategy INFO     Simulation in progress : 24%\n",
      "2020-11-10 00:25:21,417 tadawol.strategies.base_strategy INFO     Simulation in progress : 28%\n",
      "2020-11-10 00:25:45,210 tadawol.strategies.base_strategy INFO     Simulation in progress : 32%\n",
      "2020-11-10 00:26:12,032 tadawol.strategies.base_strategy INFO     Simulation in progress : 36%\n",
      "2020-11-10 00:26:38,385 tadawol.strategies.base_strategy INFO     Simulation in progress : 40%\n",
      "2020-11-10 00:27:05,461 tadawol.strategies.base_strategy INFO     Simulation in progress : 44%\n",
      "2020-11-10 00:27:33,829 tadawol.strategies.base_strategy INFO     Simulation in progress : 48%\n",
      "2020-11-10 00:28:05,688 tadawol.strategies.base_strategy INFO     Simulation in progress : 53%\n",
      "2020-11-10 00:28:32,951 tadawol.strategies.base_strategy INFO     Simulation in progress : 57%\n",
      "2020-11-10 00:28:59,435 tadawol.strategies.base_strategy INFO     Simulation in progress : 61%\n",
      "2020-11-10 00:29:26,341 tadawol.strategies.base_strategy INFO     Simulation in progress : 65%\n",
      "2020-11-10 00:29:51,112 tadawol.strategies.base_strategy INFO     Simulation in progress : 69%\n",
      "2020-11-10 00:30:18,224 tadawol.strategies.base_strategy INFO     Simulation in progress : 73%\n",
      "2020-11-10 00:30:44,048 tadawol.strategies.base_strategy INFO     Simulation in progress : 77%\n",
      "2020-11-10 00:31:08,536 tadawol.strategies.base_strategy INFO     Simulation in progress : 81%\n",
      "2020-11-10 00:31:34,203 tadawol.strategies.base_strategy INFO     Simulation in progress : 85%\n",
      "2020-11-10 00:32:01,816 tadawol.strategies.base_strategy INFO     Simulation in progress : 89%\n",
      "2020-11-10 00:32:26,587 tadawol.strategies.base_strategy INFO     Simulation in progress : 93%\n",
      "2020-11-10 00:32:52,850 tadawol.strategies.base_strategy INFO     Simulation in progress : 97%\n"
     ]
    }
   ],
   "source": [
    "from tadawol.history import get_top_tickers\n",
    "from tadawol.strategies import macd\n",
    "from tadawol.strategies import earnings\n",
    "from tadawol.strategies import reverse\n",
    "\n",
    "top_tickers = get_top_tickers(0, 500)\n",
    "reverse_strategy = reverse.Reverse()\n",
    "reverse_data = reverse_strategy.simulate(top_tickers)\n",
    "\n",
    "macd_strategy = macd.MACD()\n",
    "macd_data = macd_strategy.simulate(top_tickers)\n"
   ]
  },
  {
   "cell_type": "markdown",
   "metadata": {},
   "source": [
    "## Add companies general data"
   ]
  },
  {
   "cell_type": "code",
   "execution_count": null,
   "metadata": {},
   "outputs": [],
   "source": [
    "# JOIN RESULTS WITH TICKERS DATA\n",
    "import pandas as pd\n",
    "from math import log\n",
    "\n",
    "\n",
    "from tadawol import history\n",
    "\n",
    "tickers_data = pd.read_csv(history.TICKERS_LIST_PATH)\n",
    "\n",
    "data = pd.merge(tickers_data, data, on=\"Ticker\", how=\"inner\")\n",
    "data.rename(columns={\"Volume_y\": \"Volume\"}, inplace=True)\n"
   ]
  },
  {
   "cell_type": "markdown",
   "metadata": {},
   "source": [
    "## Get earnings"
   ]
  },
  {
   "cell_type": "code",
   "execution_count": null,
   "metadata": {},
   "outputs": [],
   "source": [
    "from tadawol.earnings import get_earnings_data_on_all_dates\n",
    "\n",
    "earnings_by_date = get_earnings_data_on_all_dates(data)\n",
    "data_with_earnings = pd.merge(data, earnings_by_date, on=[\"Ticker\", \"Date\"])\n",
    "\n",
    "print(\"SHAPES RATIO = \", round(data_with_earnings.shape[0]/data.shape[0], 2))\n"
   ]
  },
  {
   "cell_type": "markdown",
   "metadata": {},
   "source": [
    "## Helper functions"
   ]
  },
  {
   "cell_type": "code",
   "execution_count": null,
   "metadata": {},
   "outputs": [],
   "source": [
    "def print_results_by_column(df):\n",
    "    \n",
    "    bad_results = df[df[\"win_percent\"] < -3]\n",
    "    good_results = df[df[\"win_percent\"] > 3]\n",
    "    \n",
    "    columns = [\"exit_date\", \"week_previous_entries\"]\n",
    "    \n",
    "    for column in columns:\n",
    "        print(f\"***** {column} *****\")\n",
    "        print(\"Bad result : \", round(bad_results[column].mean(), 2))\n",
    "        print(\"Good result : \", round(good_results[column].mean(), 2))\n"
   ]
  },
  {
   "cell_type": "code",
   "execution_count": null,
   "metadata": {},
   "outputs": [],
   "source": [
    "import pandas as pd\n",
    "import statistics \n",
    "import matplotlib.pyplot as plt\n",
    "from datetime import datetime, timedelta\n",
    "from prettytable import PrettyTable\n",
    "\n",
    "from tadawol.simulator import simulate_trades\n",
    "\n",
    "def _performance_by(df, column, index):\n",
    "    \n",
    "    x = []\n",
    "    labels = []\n",
    "    occurences = []\n",
    "    win_percents = []\n",
    "    i = 1\n",
    "    for column_value, column_data in df.groupby([column]):\n",
    "        labels.append(column_value)\n",
    "        x.append(i)\n",
    "        occurences.append(column_data.shape[0])\n",
    "        win_percent = column_data[\"win_percent\"].mean()\n",
    "        win_percents.append(win_percent)\n",
    "        i += 1\n",
    "    \n",
    "    f = plt.figure(index)\n",
    "    plt.plot(x, occurences)\n",
    "    plt.plot(x, len(x)* [statistics.mean(occurences)])\n",
    "    plt.xticks(x, labels, rotation='vertical')\n",
    "    f.show()\n",
    "    \n",
    "    index += 1\n",
    "    g = plt.figure(index)\n",
    "    plt.plot(x, win_percents)\n",
    "    plt.plot(x, len(x)* [0])\n",
    "    plt.xticks(x, labels, rotation='vertical')\n",
    "    g.show()\n",
    "\n",
    "    \n",
    "\n",
    "\n",
    "def plot_trades(trades_df, plot_index):\n",
    "    \n",
    "    months = []\n",
    "    win_percents = []\n",
    "    \n",
    "    trades_df[\"month\"] = trades_df[\"Date\"].map(lambda x: datetime(x.year, x.month, 1))\n",
    "    \n",
    "    for month, month_trades in trades_df.groupby([\"month\"]):\n",
    "        trades_product = 1\n",
    "        months.append(month)\n",
    "        win_percents.append( month_trades[\"win_percent\"].mean())\n",
    "        \n",
    "    f = plt.figure(plot_index)\n",
    "    x = range(1, len(months) + 1)\n",
    "    plt.plot(x, win_percents)\n",
    "    plt.plot(x, len(win_percents) * [0])\n",
    "    plt.xticks(x, months, rotation='vertical')\n",
    "    f.show()\n",
    "    \n",
    "def analyse_results(df: pd.DataFrame, print_figures: bool = True, total_amount=30000, transaction_min=1500, transaction_max=2200, max_trades_by_day=4) -> None:\n",
    "    df = df.copy(deep=True)\n",
    "    min_date = df[\"Date\"].min()\n",
    "    max_date = df[\"Date\"].max()\n",
    "    days_number = (5.0 / 7.0) * (max_date - min_date).total_seconds() / (60 * 60 * 24) + 1\n",
    "    win, trade_fees, realized_trades_df = simulate_trades(df, total_amount, transaction_min, transaction_max, max_trades_by_day)\n",
    "    \n",
    "    \n",
    "    x = PrettyTable()\n",
    "    x.field_names = [\"KPI\", \"value\"]\n",
    "\n",
    "    x.add_row([\"Enter cases number\", df.shape[0]])\n",
    "    x.add_row([\"Cases number per day\", round(df.shape[0]/days_number, 2)])\n",
    "    x.add_row([\"Average winning cases\", round(100 * df[df[\"win_percent\"] >= 0].shape[0] / df.shape[0], 1)])\n",
    "    x.add_row([\"Average win\", round(df[\"win_percent\"].mean(), 2)])\n",
    "    x.add_row([f\"New account for {round(total_amount/1000)} K€\", round(win)])\n",
    "    x.add_row([\"Trade fees\", trade_fees])\n",
    "    x.add_row([\"Trade number\", realized_trades_df.shape[0]])\n",
    "    x.add_row([\"Total margin\", round(100 * (win - trade_fees)/total_amount, 1)])\n",
    "    print(x)\n",
    "    df.loc[:, \"win_percent\"] = df[\"win_percent\"].astype(float)\n",
    "    df[[\"win_percent\"]].hist(bins=50)\n",
    "    \n",
    "    plot_trades(realized_trades_df, 2)\n",
    "    \n",
    "    if not print_figures:\n",
    "        return None\n",
    "    \n",
    "        \n",
    "    df.loc[:, \"month\"] = df['Date'].map(lambda x: f\"{x.month}/{x.year}\")\n",
    "    \n",
    "    \n",
    "    index = 3\n",
    "    labels = [\"month\", \"Country\", \"Sector\", \"week_previous_entries\"]\n",
    "    for label in labels:\n",
    "        _performance_by(df, label, index)\n",
    "        index += 2\n",
    "        \n",
    "    return None\n",
    "\n",
    "\n",
    "def print_cases(df: pd.DataFrame, bad=True, start=0, end=10):\n",
    "    \n",
    "    df = df.copy(deep=True)\n",
    "    ascending = True\n",
    "    if not bad:\n",
    "        ascending = False\n",
    "    df.sort_values(by=[\"win_percent\", \"Date\"], ascending=ascending, inplace=True)\n",
    "    df.reset_index(drop=True, inplace=True)\n",
    "    \n",
    "    columns = [\n",
    "        \"Ticker\", \"Date\", \"win_percent\", \"company_short_name\", \n",
    "        \"Country\", \"Sector\", \"days_to_next_result\", \"days_since_last_result\",\"exit_date\", \n",
    "        \"Close\", \"Open\", \"exit_price\"]\n",
    "    df = df[columns]\n",
    "    df = df.loc[start:end]\n",
    "    return df\n",
    "    "
   ]
  },
  {
   "cell_type": "code",
   "execution_count": null,
   "metadata": {},
   "outputs": [],
   "source": [
    "trades = analyse_results(data_with_earnings, print_figures=True, max_trades_by_day=3)"
   ]
  },
  {
   "cell_type": "code",
   "execution_count": null,
   "metadata": {},
   "outputs": [],
   "source": [
    "df = data_with_earnings[(data_with_earnings[\"atr_decreasing\"])]\n",
    "analyse_results(df, print_figures=False, max_trades_by_day=3)\n"
   ]
  },
  {
   "cell_type": "code",
   "execution_count": null,
   "metadata": {},
   "outputs": [],
   "source": [
    "print_cases(df, False, 30, 50)"
   ]
  },
  {
   "cell_type": "code",
   "execution_count": null,
   "metadata": {},
   "outputs": [],
   "source": [
    "data_with_earnings[\"Date\"].max()"
   ]
  },
  {
   "cell_type": "code",
   "execution_count": null,
   "metadata": {},
   "outputs": [],
   "source": [
    "from tadawol.history import get_historical_data\n",
    "df = get_historical_data()"
   ]
  },
  {
   "cell_type": "code",
   "execution_count": null,
   "metadata": {},
   "outputs": [],
   "source": [
    "df[\"Date\"].max()"
   ]
  },
  {
   "cell_type": "markdown",
   "metadata": {},
   "source": [
    "### Clean data"
   ]
  },
  {
   "cell_type": "code",
   "execution_count": null,
   "metadata": {},
   "outputs": [],
   "source": [
    "import numpy as np\n",
    "from datetime import datetime\n",
    "\n",
    "# Avoid coronavirus period\n",
    "cleaned_data = data_with_earnings[data_with_earnings[\"Date\"] < datetime(2020, 1, 1)] \n",
    "# Avoid 2018 little crisis\n",
    "cleaned_data = cleaned_data[(cleaned_data[\"Date\"] < datetime(2018, 11, 1)) | (cleaned_data[\"Date\"] > datetime(2018, 12, 31))]"
   ]
  },
  {
   "cell_type": "markdown",
   "metadata": {},
   "source": [
    "## Simulate top tickers"
   ]
  },
  {
   "cell_type": "code",
   "execution_count": null,
   "metadata": {},
   "outputs": [],
   "source": [
    "# Take 100 top tickers\n",
    "top_tickers = get_top_tickers(0, 300)\n",
    "top_companies_trades = cleaned_data[cleaned_data[\"Ticker\"].isin(top_tickers)]\n",
    "analyse_results(top_companies_trades, True, max_trades_by_day=4)\n"
   ]
  },
  {
   "cell_type": "code",
   "execution_count": null,
   "metadata": {},
   "outputs": [],
   "source": [
    "print_results_by_column(df)"
   ]
  },
  {
   "cell_type": "code",
   "execution_count": null,
   "metadata": {},
   "outputs": [],
   "source": [
    "ticker = \"\"\n",
    "ticker_trades = top_companies_trades[top_companies_trades[\"Ticker\"] == ticker]\n",
    "ticker_trades[[\"Ticker\", \"Date\", \"win_percent\", \"exit_date\", \"exit_reason\"]]\n",
    "print_results_by_column(top_companies_trades)"
   ]
  },
  {
   "cell_type": "markdown",
   "metadata": {},
   "source": [
    "## LABORATORY"
   ]
  },
  {
   "cell_type": "code",
   "execution_count": null,
   "metadata": {},
   "outputs": [],
   "source": [
    "# Try losing days\n",
    "\n",
    "df = top_companies_trades.copy(deep=True)#[cleaned_data[\"Close\"] < 1 * cleaned_data[\"Open\"]]\n",
    "df = df[df[\"Close\"] > df[\"Open\"]]\n",
    "df = df[df[\"long_ema_evolution\"]/df[\"Close\"] > 0.002]\n",
    "df = df[df[\"week_previous_entries\"] > 0]\n",
    "df = df[df[\"short_ema_evolution\"] > 0.1]\n",
    "df = df[df[\"earnings_surprise\"] < 20]\n",
    "analyse_results(df, False, total_amount=20000, max_trades_by_day=10, min_invest_per_trade=0.05)"
   ]
  },
  {
   "cell_type": "code",
   "execution_count": null,
   "metadata": {},
   "outputs": [],
   "source": [
    "print_cases(df, False, 10, 20)"
   ]
  },
  {
   "cell_type": "code",
   "execution_count": null,
   "metadata": {},
   "outputs": [],
   "source": [
    "df.groupby"
   ]
  },
  {
   "cell_type": "markdown",
   "metadata": {},
   "source": [
    "## END LABORATORY"
   ]
  },
  {
   "cell_type": "markdown",
   "metadata": {},
   "source": [
    "## Today results"
   ]
  },
  {
   "cell_type": "code",
   "execution_count": null,
   "metadata": {},
   "outputs": [],
   "source": [
    "import pandas as pd\n",
    "\n",
    "from tadawol.strategies import recovery\n",
    "from tadawol.strategies import macd\n",
    "from tadawol.history import get_top_tickers\n",
    "from tadawol.earnings import get_earnings_data_on_all_dates\n",
    "\n",
    "strategy = macd.MACD()\n",
    "\n",
    "tickers = get_top_tickers(0, 100)\n",
    "macd_today_trades, macd_today_exits = strategy.get_today_trades_and_exits(tickers)\n",
    "\n",
    "\n",
    "earnings_by_date = get_earnings_data_on_all_dates(macd_today_trades)\n",
    "macd_today_trades = pd.merge(macd_today_trades, earnings_by_date, on=[\"Ticker\", \"Date\"])\n",
    "#macd_today_trades = macd_today_trades[macd_today_trades[\"days_to_next_result\"] > 20]\n",
    "#macd_today_trades = macd_today_trades[macd_today_trades[\"days_since_last_result\"] > 0]\n",
    "macd_today_trades = macd_today_trades[macd_today_trades[\"week_previous_entries\"] >= 1]\n",
    "\n"
   ]
  },
  {
   "cell_type": "code",
   "execution_count": null,
   "metadata": {},
   "outputs": [],
   "source": [
    "macd_today_trades[\"exit\"].max()\n",
    "#macd_today_exits.sort_values(by=[\"Date\"], ascending=False).head()"
   ]
  },
  {
   "cell_type": "code",
   "execution_count": null,
   "metadata": {
    "scrolled": true
   },
   "outputs": [],
   "source": [
    "macd_today_trades[\"Date\"].max()"
   ]
  },
  {
   "cell_type": "code",
   "execution_count": null,
   "metadata": {},
   "outputs": [],
   "source": [
    "columns = [\n",
    "        \"Date\", \"Ticker\", \"company_short_name\", \"Close\", \"week_previous_entries\",\n",
    "        \"earnings_surprise\", \"days_to_next_result\", \"exit_reason\"]\n",
    "\n",
    "tr = today_trades[columns]"
   ]
  },
  {
   "cell_type": "code",
   "execution_count": null,
   "metadata": {},
   "outputs": [],
   "source": [
    "\n",
    "from tadawol.strategies import earnings\n",
    "from tadawol.strategies import macd\n",
    "from tadawol.history import get_top_tickers\n",
    "from tadawol.earnings import get_earnings_data_on_all_dates\n",
    "\n",
    "strategy = macd.MACD()\n",
    "\n",
    "tickers = get_top_tickers(0, 300)\n",
    "earnings_today_trades_1, earnings_today_exits_1 = strategy.get_today_trades_and_exits(tickers)\n"
   ]
  },
  {
   "cell_type": "code",
   "execution_count": null,
   "metadata": {},
   "outputs": [],
   "source": [
    "earnings_today_trades = earnings_today_trades_1[earnings_today_trades_1[\"week_previous_entries\"] >= 1]"
   ]
  },
  {
   "cell_type": "code",
   "execution_count": null,
   "metadata": {},
   "outputs": [],
   "source": [
    "earnings_today_trades_1"
   ]
  },
  {
   "cell_type": "code",
   "execution_count": null,
   "metadata": {},
   "outputs": [],
   "source": [
    "columns = [\"Date\", \"Ticker\", \"exit\", \"exit_data\", \"entry\", \"Close\"]\n",
    "\n",
    "for i in range(1, 16):\n",
    "    columns.append(\"Close_{}\".format(i))\n",
    "\n",
    "earnings_today_trades_1[earnings_today_trades_1[\"week_previous_entries\"] >= 1].sort_values(by=\"Date\", ascending=False).head(50)[columns]"
   ]
  },
  {
   "cell_type": "code",
   "execution_count": null,
   "metadata": {},
   "outputs": [],
   "source": [
    "from datetime import datetime\n",
    "\n",
    "earnings_today_trades_1[earnings_today_trades_1[\"exit\"] == datetime(2020, 9, 30)].head()"
   ]
  },
  {
   "cell_type": "code",
   "execution_count": null,
   "metadata": {},
   "outputs": [],
   "source": [
    "from tadawol import earnings\n",
    "earnings_df = earnings.get_earnings_df()\n"
   ]
  },
  {
   "cell_type": "code",
   "execution_count": null,
   "metadata": {},
   "outputs": [],
   "source": [
    "earnings_df = earnings_df[earnings_df[\"ticker\"] == \"PGR\"]\n",
    "earnings_df.sort_values(by=[\"Date\"], ascending=False, inplace=True)\n",
    "earnings_df.head()"
   ]
  },
  {
   "cell_type": "code",
   "execution_count": null,
   "metadata": {},
   "outputs": [],
   "source": [
    "from tadawol import history\n",
    "import pandas as pd\n",
    "\n",
    "history = df = pd.read_csv(history.TICKERS_LIST_PATH)"
   ]
  },
  {
   "cell_type": "code",
   "execution_count": null,
   "metadata": {},
   "outputs": [],
   "source": [
    "history[history[\"Ticker\"] == \"PGR\"]"
   ]
  },
  {
   "cell_type": "code",
   "execution_count": null,
   "metadata": {},
   "outputs": [],
   "source": [
    "data[\"Date\"].max()"
   ]
  },
  {
   "cell_type": "code",
   "execution_count": null,
   "metadata": {},
   "outputs": [],
   "source": [
    "data_with_earnings.shape[0]"
   ]
  },
  {
   "cell_type": "code",
   "execution_count": null,
   "metadata": {},
   "outputs": [],
   "source": []
  }
 ],
 "metadata": {
  "kernelspec": {
   "display_name": "Python 3",
   "language": "python",
   "name": "python3"
  },
  "language_info": {
   "codemirror_mode": {
    "name": "ipython",
    "version": 3
   },
   "file_extension": ".py",
   "mimetype": "text/x-python",
   "name": "python",
   "nbconvert_exporter": "python",
   "pygments_lexer": "ipython3",
   "version": "3.7.4"
  }
 },
 "nbformat": 4,
 "nbformat_minor": 4
}
