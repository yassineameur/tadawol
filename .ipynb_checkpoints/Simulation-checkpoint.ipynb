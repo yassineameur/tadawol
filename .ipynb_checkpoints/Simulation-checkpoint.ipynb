{
 "cells": [
  {
   "cell_type": "markdown",
   "metadata": {},
   "source": [
    "## Simulation"
   ]
  },
  {
   "cell_type": "code",
   "execution_count": 1,
   "metadata": {},
   "outputs": [],
   "source": [
    "from tadawol.history import get_top_tickers\n",
    "\n",
    "top_tickers = get_top_tickers(0, 300)"
   ]
  },
  {
   "cell_type": "code",
   "execution_count": 2,
   "metadata": {
    "scrolled": true
   },
   "outputs": [],
   "source": [
    "from tadawol.strategies import recovery\n",
    "from tadawol.strategies import macd\n",
    "\n",
    "strategy = macd.MACD()"
   ]
  },
  {
   "cell_type": "code",
   "execution_count": 3,
   "metadata": {},
   "outputs": [
    {
     "name": "stderr",
     "output_type": "stream",
     "text": [
      "Simulating strategy for 269 tickers\n"
     ]
    },
    {
     "name": "stdout",
     "output_type": "stream",
     "text": [
      "*****\n",
      "Unnamed: 0      0\n",
      "Date            0\n",
      "Open            0\n",
      "High            0\n",
      "Low             0\n",
      "Close           0\n",
      "Adj Close       0\n",
      "Volume          0\n",
      "Ticker          0\n",
      "Close_ema_23    0\n",
      "Close_ema_10    0\n",
      "ggg             0\n",
      "dtype: int64\n",
      "Unnamed: 0               int64\n",
      "Date            datetime64[ns]\n",
      "Open                   float64\n",
      "High                   float64\n",
      "Low                    float64\n",
      "Close                  float64\n",
      "Adj Close              float64\n",
      "Volume                 float64\n",
      "Ticker                  object\n",
      "Close_ema_23           float64\n",
      "Close_ema_10           float64\n",
      "ggg                    float64\n",
      "dtype: object\n",
      "   Unnamed: 0       Date       Open       High        Low      Close  \\\n",
      "0       28660 2020-07-24  95.980003  96.220001  93.870003  94.809998   \n",
      "1           0 2020-07-27  94.959999  97.540001  94.900002  97.269997   \n",
      "2           1 2020-07-28  96.980003  97.250000  95.199997  95.300003   \n",
      "3           2 2020-07-29  95.809998  97.660004  95.519997  97.099998   \n",
      "4           3 2020-07-30  96.120003  96.360001  94.970001  95.930000   \n",
      "\n",
      "   Adj Close     Volume Ticker  Close_ema_23  Close_ema_10       ggg  \n",
      "0  94.809998   973531.0      A     94.809998     94.809998  0.000000  \n",
      "1  97.269997  1177100.0      A     96.093476     96.162997  0.069522  \n",
      "2  95.300003  1373700.0      A     95.805667     95.816079  0.010412  \n",
      "3  97.099998  1125300.0      A     96.172624     96.239073  0.066449  \n",
      "4  95.930000  1663300.0      A     96.115310     96.150347  0.035036  \n"
     ]
    },
    {
     "name": "stderr",
     "output_type": "stream",
     "text": [
      "/Users/yassineameur/.virtualenvs/tadawol/lib/python3.7/site-packages/pandas/core/indexing.py:845: SettingWithCopyWarning: \n",
      "A value is trying to be set on a copy of a slice from a DataFrame.\n",
      "Try using .loc[row_indexer,col_indexer] = value instead\n",
      "\n",
      "See the caveats in the documentation: https://pandas.pydata.org/pandas-docs/stable/user_guide/indexing.html#returning-a-view-versus-a-copy\n",
      "  self.obj[key] = _infer_fill_value(value)\n",
      "/Users/yassineameur/.virtualenvs/tadawol/lib/python3.7/site-packages/pandas/core/indexing.py:966: SettingWithCopyWarning: \n",
      "A value is trying to be set on a copy of a slice from a DataFrame.\n",
      "Try using .loc[row_indexer,col_indexer] = value instead\n",
      "\n",
      "See the caveats in the documentation: https://pandas.pydata.org/pandas-docs/stable/user_guide/indexing.html#returning-a-view-versus-a-copy\n",
      "  self.obj[item] = s\n",
      "/Users/yassineameur/.virtualenvs/tadawol/lib/python3.7/site-packages/pandas/core/dtypes/missing.py:517: VisibleDeprecationWarning: Creating an ndarray from ragged nested sequences (which is a list-or-tuple of lists-or-tuples-or ndarrays with different lengths or shapes) is deprecated. If you meant to do this, you must specify 'dtype=object' when creating the ndarray\n",
      "  val = np.array(val, copy=False)\n",
      "/Users/yassineameur/.virtualenvs/tadawol/lib/python3.7/site-packages/numpy/core/_asarray.py:83: VisibleDeprecationWarning: Creating an ndarray from ragged nested sequences (which is a list-or-tuple of lists-or-tuples-or ndarrays with different lengths or shapes) is deprecated. If you meant to do this, you must specify 'dtype=object' when creating the ndarray\n",
      "  return array(a, dtype, copy=False, order=order)\n"
     ]
    },
    {
     "ename": "ValueError",
     "evalue": "Must have equal len keys and value when setting with an iterable",
     "output_type": "error",
     "traceback": [
      "\u001b[0;31m---------------------------------------------------------------------------\u001b[0m",
      "\u001b[0;31mValueError\u001b[0m                                Traceback (most recent call last)",
      "\u001b[0;32m<ipython-input-3-a0052b1c9722>\u001b[0m in \u001b[0;36m<module>\u001b[0;34m\u001b[0m\n\u001b[0;32m----> 1\u001b[0;31m \u001b[0mdata\u001b[0m \u001b[0;34m=\u001b[0m \u001b[0mstrategy\u001b[0m\u001b[0;34m.\u001b[0m\u001b[0msimulate\u001b[0m\u001b[0;34m(\u001b[0m\u001b[0mtop_tickers\u001b[0m\u001b[0;34m)\u001b[0m\u001b[0;34m\u001b[0m\u001b[0;34m\u001b[0m\u001b[0m\n\u001b[0m\u001b[1;32m      2\u001b[0m \u001b[0mprint\u001b[0m\u001b[0;34m(\u001b[0m\u001b[0;34m\"Entries number = \"\u001b[0m\u001b[0;34m,\u001b[0m \u001b[0mdata\u001b[0m\u001b[0;34m.\u001b[0m\u001b[0mshape\u001b[0m\u001b[0;34m)\u001b[0m\u001b[0;34m\u001b[0m\u001b[0;34m\u001b[0m\u001b[0m\n",
      "\u001b[0;32m~/Desktop/tadawol/tadawol/strategies/base_strategy.py\u001b[0m in \u001b[0;36msimulate\u001b[0;34m(self, tickers_to_simulate)\u001b[0m\n\u001b[1;32m    117\u001b[0m     \u001b[0;32mdef\u001b[0m \u001b[0msimulate\u001b[0m\u001b[0;34m(\u001b[0m\u001b[0mself\u001b[0m\u001b[0;34m,\u001b[0m \u001b[0mtickers_to_simulate\u001b[0m\u001b[0;34m:\u001b[0m \u001b[0mOptional\u001b[0m\u001b[0;34m[\u001b[0m\u001b[0mList\u001b[0m\u001b[0;34m[\u001b[0m\u001b[0mstr\u001b[0m\u001b[0;34m]\u001b[0m\u001b[0;34m]\u001b[0m \u001b[0;34m=\u001b[0m \u001b[0;32mNone\u001b[0m\u001b[0;34m)\u001b[0m\u001b[0;34m:\u001b[0m\u001b[0;34m\u001b[0m\u001b[0;34m\u001b[0m\u001b[0m\n\u001b[1;32m    118\u001b[0m         \u001b[0mdf\u001b[0m \u001b[0;34m=\u001b[0m \u001b[0mget_historical_data\u001b[0m\u001b[0;34m(\u001b[0m\u001b[0;34m)\u001b[0m\u001b[0;34m\u001b[0m\u001b[0;34m\u001b[0m\u001b[0m\n\u001b[0;32m--> 119\u001b[0;31m         \u001b[0mtrades\u001b[0m \u001b[0;34m=\u001b[0m \u001b[0mself\u001b[0m\u001b[0;34m.\u001b[0m\u001b[0m_get_trades\u001b[0m\u001b[0;34m(\u001b[0m\u001b[0mdf\u001b[0m\u001b[0;34m,\u001b[0m \u001b[0mtickers_to_simulate\u001b[0m\u001b[0;34m)\u001b[0m\u001b[0;34m\u001b[0m\u001b[0;34m\u001b[0m\u001b[0m\n\u001b[0m\u001b[1;32m    120\u001b[0m         \u001b[0;32mreturn\u001b[0m \u001b[0mtrades\u001b[0m\u001b[0;34m[\u001b[0m\u001b[0mtrades\u001b[0m\u001b[0;34m[\u001b[0m\u001b[0;34m'exit_price'\u001b[0m\u001b[0;34m]\u001b[0m\u001b[0;34m.\u001b[0m\u001b[0mnotna\u001b[0m\u001b[0;34m(\u001b[0m\u001b[0;34m)\u001b[0m\u001b[0;34m]\u001b[0m\u001b[0;34m\u001b[0m\u001b[0;34m\u001b[0m\u001b[0m\n\u001b[1;32m    121\u001b[0m \u001b[0;34m\u001b[0m\u001b[0m\n",
      "\u001b[0;32m~/Desktop/tadawol/tadawol/strategies/base_strategy.py\u001b[0m in \u001b[0;36m_get_trades\u001b[0;34m(self, df, tickers_to_simulate)\u001b[0m\n\u001b[1;32m     88\u001b[0m             \u001b[0mticker_data\u001b[0m \u001b[0;34m=\u001b[0m \u001b[0mticker_data\u001b[0m\u001b[0;34m.\u001b[0m\u001b[0msort_values\u001b[0m\u001b[0;34m(\u001b[0m\u001b[0mby\u001b[0m\u001b[0;34m=\u001b[0m\u001b[0;34m[\u001b[0m\u001b[0;34m\"Date\"\u001b[0m\u001b[0;34m]\u001b[0m\u001b[0;34m,\u001b[0m \u001b[0mascending\u001b[0m\u001b[0;34m=\u001b[0m\u001b[0;32mTrue\u001b[0m\u001b[0;34m)\u001b[0m\u001b[0;34m\u001b[0m\u001b[0;34m\u001b[0m\u001b[0m\n\u001b[1;32m     89\u001b[0m             \u001b[0mticker_data\u001b[0m\u001b[0;34m.\u001b[0m\u001b[0mreset_index\u001b[0m\u001b[0;34m(\u001b[0m\u001b[0mdrop\u001b[0m\u001b[0;34m=\u001b[0m\u001b[0;32mTrue\u001b[0m\u001b[0;34m,\u001b[0m \u001b[0minplace\u001b[0m\u001b[0;34m=\u001b[0m\u001b[0;32mTrue\u001b[0m\u001b[0;34m)\u001b[0m\u001b[0;34m\u001b[0m\u001b[0;34m\u001b[0m\u001b[0m\n\u001b[0;32m---> 90\u001b[0;31m             \u001b[0mticker_entries\u001b[0m \u001b[0;34m=\u001b[0m \u001b[0mself\u001b[0m\u001b[0;34m.\u001b[0m\u001b[0madd_entries_for_ticker\u001b[0m\u001b[0;34m(\u001b[0m\u001b[0mticker_data\u001b[0m\u001b[0;34m)\u001b[0m\u001b[0;34m\u001b[0m\u001b[0;34m\u001b[0m\u001b[0m\n\u001b[0m\u001b[1;32m     91\u001b[0m             \u001b[0mticker_exits\u001b[0m \u001b[0;34m=\u001b[0m \u001b[0mself\u001b[0m\u001b[0;34m.\u001b[0m\u001b[0mget_exit_prices_for_ticker\u001b[0m\u001b[0;34m(\u001b[0m\u001b[0mticker_entries\u001b[0m\u001b[0;34m)\u001b[0m\u001b[0;34m\u001b[0m\u001b[0;34m\u001b[0m\u001b[0m\n\u001b[1;32m     92\u001b[0m \u001b[0;34m\u001b[0m\u001b[0m\n",
      "\u001b[0;32m~/Desktop/tadawol/tadawol/strategies/macd.py\u001b[0m in \u001b[0;36madd_entries_for_ticker\u001b[0;34m(self, ticker_data)\u001b[0m\n\u001b[1;32m     38\u001b[0m         \u001b[0mprint\u001b[0m\u001b[0;34m(\u001b[0m\u001b[0mdf\u001b[0m\u001b[0;34m.\u001b[0m\u001b[0mhead\u001b[0m\u001b[0;34m(\u001b[0m\u001b[0;34m)\u001b[0m\u001b[0;34m)\u001b[0m\u001b[0;34m\u001b[0m\u001b[0;34m\u001b[0m\u001b[0m\n\u001b[1;32m     39\u001b[0m         \u001b[0mdf\u001b[0m \u001b[0;34m=\u001b[0m \u001b[0mdf\u001b[0m\u001b[0;34m.\u001b[0m\u001b[0mhead\u001b[0m\u001b[0;34m(\u001b[0m\u001b[0;34m)\u001b[0m\u001b[0;34m\u001b[0m\u001b[0;34m\u001b[0m\u001b[0m\n\u001b[0;32m---> 40\u001b[0;31m         \u001b[0mdf\u001b[0m\u001b[0;34m.\u001b[0m\u001b[0mloc\u001b[0m\u001b[0;34m[\u001b[0m\u001b[0;34m:\u001b[0m\u001b[0;34m,\u001b[0m \u001b[0;34m\"ema_of_diff\"\u001b[0m\u001b[0;34m]\u001b[0m \u001b[0;34m=\u001b[0m \u001b[0mstats\u001b[0m\u001b[0;34m.\u001b[0m\u001b[0madd_sma\u001b[0m\u001b[0;34m(\u001b[0m\u001b[0mdf\u001b[0m\u001b[0;34m,\u001b[0m \u001b[0mwindow\u001b[0m\u001b[0;34m=\u001b[0m\u001b[0;36m2\u001b[0m\u001b[0;34m,\u001b[0m \u001b[0mcolumn\u001b[0m\u001b[0;34m=\u001b[0m\u001b[0;34m\"ggg\"\u001b[0m\u001b[0;34m)\u001b[0m\u001b[0;34m\u001b[0m\u001b[0;34m\u001b[0m\u001b[0m\n\u001b[0m\u001b[1;32m     41\u001b[0m \u001b[0;34m\u001b[0m\u001b[0m\n\u001b[1;32m     42\u001b[0m         \u001b[0mdf\u001b[0m\u001b[0;34m.\u001b[0m\u001b[0mloc\u001b[0m\u001b[0;34m[\u001b[0m\u001b[0;34m\"emas_diff\"\u001b[0m\u001b[0;34m]\u001b[0m \u001b[0;34m=\u001b[0m \u001b[0mdf\u001b[0m\u001b[0;34m[\u001b[0m\u001b[0;34m\"ema_of_diff\"\u001b[0m\u001b[0;34m]\u001b[0m \u001b[0;34m-\u001b[0m \u001b[0mdf\u001b[0m\u001b[0;34m[\u001b[0m\u001b[0;34m\"diff\"\u001b[0m\u001b[0;34m]\u001b[0m\u001b[0;34m\u001b[0m\u001b[0;34m\u001b[0m\u001b[0m\n",
      "\u001b[0;32m~/.virtualenvs/tadawol/lib/python3.7/site-packages/pandas/core/indexing.py\u001b[0m in \u001b[0;36m__setitem__\u001b[0;34m(self, key, value)\u001b[0m\n\u001b[1;32m    669\u001b[0m             \u001b[0mkey\u001b[0m \u001b[0;34m=\u001b[0m \u001b[0mcom\u001b[0m\u001b[0;34m.\u001b[0m\u001b[0mapply_if_callable\u001b[0m\u001b[0;34m(\u001b[0m\u001b[0mkey\u001b[0m\u001b[0;34m,\u001b[0m \u001b[0mself\u001b[0m\u001b[0;34m.\u001b[0m\u001b[0mobj\u001b[0m\u001b[0;34m)\u001b[0m\u001b[0;34m\u001b[0m\u001b[0;34m\u001b[0m\u001b[0m\n\u001b[1;32m    670\u001b[0m         \u001b[0mindexer\u001b[0m \u001b[0;34m=\u001b[0m \u001b[0mself\u001b[0m\u001b[0;34m.\u001b[0m\u001b[0m_get_setitem_indexer\u001b[0m\u001b[0;34m(\u001b[0m\u001b[0mkey\u001b[0m\u001b[0;34m)\u001b[0m\u001b[0;34m\u001b[0m\u001b[0;34m\u001b[0m\u001b[0m\n\u001b[0;32m--> 671\u001b[0;31m         \u001b[0mself\u001b[0m\u001b[0;34m.\u001b[0m\u001b[0m_setitem_with_indexer\u001b[0m\u001b[0;34m(\u001b[0m\u001b[0mindexer\u001b[0m\u001b[0;34m,\u001b[0m \u001b[0mvalue\u001b[0m\u001b[0;34m)\u001b[0m\u001b[0;34m\u001b[0m\u001b[0;34m\u001b[0m\u001b[0m\n\u001b[0m\u001b[1;32m    672\u001b[0m \u001b[0;34m\u001b[0m\u001b[0m\n\u001b[1;32m    673\u001b[0m     \u001b[0;32mdef\u001b[0m \u001b[0m_validate_key\u001b[0m\u001b[0;34m(\u001b[0m\u001b[0mself\u001b[0m\u001b[0;34m,\u001b[0m \u001b[0mkey\u001b[0m\u001b[0;34m,\u001b[0m \u001b[0maxis\u001b[0m\u001b[0;34m:\u001b[0m \u001b[0mint\u001b[0m\u001b[0;34m)\u001b[0m\u001b[0;34m:\u001b[0m\u001b[0;34m\u001b[0m\u001b[0;34m\u001b[0m\u001b[0m\n",
      "\u001b[0;32m~/.virtualenvs/tadawol/lib/python3.7/site-packages/pandas/core/indexing.py\u001b[0m in \u001b[0;36m_setitem_with_indexer\u001b[0;34m(self, indexer, value)\u001b[0m\n\u001b[1;32m    848\u001b[0m                             \u001b[0mindexer\u001b[0m\u001b[0;34m,\u001b[0m \u001b[0mself\u001b[0m\u001b[0;34m.\u001b[0m\u001b[0mobj\u001b[0m\u001b[0;34m.\u001b[0m\u001b[0maxes\u001b[0m\u001b[0;34m\u001b[0m\u001b[0;34m\u001b[0m\u001b[0m\n\u001b[1;32m    849\u001b[0m                         )\n\u001b[0;32m--> 850\u001b[0;31m                         \u001b[0mself\u001b[0m\u001b[0;34m.\u001b[0m\u001b[0m_setitem_with_indexer\u001b[0m\u001b[0;34m(\u001b[0m\u001b[0mnew_indexer\u001b[0m\u001b[0;34m,\u001b[0m \u001b[0mvalue\u001b[0m\u001b[0;34m)\u001b[0m\u001b[0;34m\u001b[0m\u001b[0;34m\u001b[0m\u001b[0m\n\u001b[0m\u001b[1;32m    851\u001b[0m \u001b[0;34m\u001b[0m\u001b[0m\n\u001b[1;32m    852\u001b[0m                         \u001b[0;32mreturn\u001b[0m \u001b[0mself\u001b[0m\u001b[0;34m.\u001b[0m\u001b[0mobj\u001b[0m\u001b[0;34m\u001b[0m\u001b[0;34m\u001b[0m\u001b[0m\n",
      "\u001b[0;32m~/.virtualenvs/tadawol/lib/python3.7/site-packages/pandas/core/indexing.py\u001b[0m in \u001b[0;36m_setitem_with_indexer\u001b[0;34m(self, indexer, value)\u001b[0m\n\u001b[1;32m   1017\u001b[0m                     \u001b[0;32mif\u001b[0m \u001b[0mlen\u001b[0m\u001b[0;34m(\u001b[0m\u001b[0mlabels\u001b[0m\u001b[0;34m)\u001b[0m \u001b[0;34m!=\u001b[0m \u001b[0mlen\u001b[0m\u001b[0;34m(\u001b[0m\u001b[0mvalue\u001b[0m\u001b[0;34m)\u001b[0m\u001b[0;34m:\u001b[0m\u001b[0;34m\u001b[0m\u001b[0;34m\u001b[0m\u001b[0m\n\u001b[1;32m   1018\u001b[0m                         raise ValueError(\n\u001b[0;32m-> 1019\u001b[0;31m                             \u001b[0;34m\"Must have equal len keys and value \"\u001b[0m\u001b[0;34m\u001b[0m\u001b[0;34m\u001b[0m\u001b[0m\n\u001b[0m\u001b[1;32m   1020\u001b[0m                             \u001b[0;34m\"when setting with an iterable\"\u001b[0m\u001b[0;34m\u001b[0m\u001b[0;34m\u001b[0m\u001b[0m\n\u001b[1;32m   1021\u001b[0m                         )\n",
      "\u001b[0;31mValueError\u001b[0m: Must have equal len keys and value when setting with an iterable"
     ]
    }
   ],
   "source": [
    "data = strategy.simulate(top_tickers)\n",
    "print(\"Entries number = \", data.shape)"
   ]
  },
  {
   "cell_type": "markdown",
   "metadata": {},
   "source": [
    "## Add companies general data"
   ]
  },
  {
   "cell_type": "code",
   "execution_count": null,
   "metadata": {},
   "outputs": [],
   "source": [
    "# JOIN RESULTS WITH TICKERS DATA\n",
    "import pandas as pd\n",
    "from math import log\n",
    "\n",
    "\n",
    "from tadawol import history\n",
    "\n",
    "tickers_data = pd.read_csv(history.TICKERS_LIST_PATH)\n",
    "\n",
    "data = pd.merge(tickers_data, data, on=\"Ticker\", how=\"inner\")\n",
    "data.rename(columns={\"Volume_y\": \"Volume\"}, inplace=True)\n"
   ]
  },
  {
   "cell_type": "markdown",
   "metadata": {},
   "source": [
    "## Get earnings"
   ]
  },
  {
   "cell_type": "code",
   "execution_count": null,
   "metadata": {},
   "outputs": [],
   "source": [
    "from tadawol.earnings import get_earnings_data_on_all_dates\n",
    "\n",
    "earnings_by_date = get_earnings_data_on_all_dates(data)\n",
    "data_with_earnings = pd.merge(data, earnings_by_date, on=[\"Ticker\", \"Date\"])\n",
    "\n",
    "print(\"SHAPES RATIO = \", round(data_with_earnings.shape[0]/data.shape[0], 2))\n"
   ]
  },
  {
   "cell_type": "markdown",
   "metadata": {},
   "source": [
    "## Helper functions"
   ]
  },
  {
   "cell_type": "code",
   "execution_count": null,
   "metadata": {},
   "outputs": [],
   "source": [
    "from math import log\n",
    "\n",
    "def get_volume_category(volume):\n",
    "    if log(volume) <= 14:\n",
    "        return \"Low Volume\"\n",
    "    if log(volume) <= 16:\n",
    "        return \"Medium Volume\"\n",
    "    return \"High Volume\"\n",
    "\n",
    "data_with_earnings[\"Volume_category\"] = data_with_earnings.Volume.map(get_volume_category)\n"
   ]
  },
  {
   "cell_type": "code",
   "execution_count": null,
   "metadata": {},
   "outputs": [],
   "source": [
    "def print_results_data(df):\n",
    "    print(\"days_since_last_result : \", df[\"days_since_last_result\"].mean())\n",
    "    print(\"days_to_next_result : \", df[\"days_to_next_result\"].mean())\n",
    "    print(\"average earnings surprise: \", df[\"earnings_surprise\"].mean())\n",
    "    \n",
    "def print_results_by_column(df):\n",
    "    \n",
    "    bad_results = df[df[\"win_percent\"] < -3]\n",
    "    good_results = df[df[\"win_percent\"] > 3]\n",
    "    \n",
    "    columns = [\"days_since_last_result\", \"days_to_next_result\", \"earnings_surprise\", \"exit_date\", \"week_previous_entries\"]\n",
    "    \n",
    "    for column in columns:\n",
    "        print(f\"***** {column} *****\")\n",
    "        print(\"Bad result : \", round(bad_results[column].mean(), 2))\n",
    "        print(\"Good result : \", round(good_results[column].mean(), 2))\n"
   ]
  },
  {
   "cell_type": "code",
   "execution_count": null,
   "metadata": {},
   "outputs": [],
   "source": [
    "import pandas as pd\n",
    "import statistics \n",
    "import matplotlib.pyplot as plt\n",
    "from datetime import datetime, timedelta\n",
    "from prettytable import PrettyTable\n",
    "\n",
    "def _performance_by(df, column, index):\n",
    "    \n",
    "    x = []\n",
    "    labels = []\n",
    "    occurences = []\n",
    "    win_percents = []\n",
    "    i = 1\n",
    "    for column_value, column_data in df.groupby([column]):\n",
    "        labels.append(column_value)\n",
    "        x.append(i)\n",
    "        occurences.append(column_data.shape[0])\n",
    "        win_percent = column_data[\"win_percent\"].mean()\n",
    "        win_percents.append(win_percent)\n",
    "        i += 1\n",
    "    \n",
    "    f = plt.figure(index)\n",
    "    plt.plot(x, occurences)\n",
    "    plt.plot(x, len(x)* [statistics.mean(occurences)])\n",
    "    plt.xticks(x, labels, rotation='vertical')\n",
    "    f.show()\n",
    "    \n",
    "    index += 1\n",
    "    g = plt.figure(index)\n",
    "    plt.plot(x, win_percents)\n",
    "    plt.plot(x, len(x)* [0])\n",
    "    plt.xticks(x, labels, rotation='vertical')\n",
    "    g.show()\n",
    "\n",
    "\n",
    "def simulate_trades(df, total_amount: int, min_invest_per_trade: float, max_trades_by_day):\n",
    "    \n",
    "    transaction_min = min_invest_per_trade * total_amount\n",
    "    transaction_max = 2 * transaction_min\n",
    "    current_amount = total_amount\n",
    "    df = df.sort_values(by=\"Date\", ascending=True)\n",
    "    date = df[\"Date\"].min()\n",
    "    \n",
    "    returned_money_by_date = dict()\n",
    "    trade_fees = 0\n",
    "    realized_trades = []\n",
    "    while date < datetime.now():\n",
    "        #recuperate money\n",
    "        money_to_recupere = returned_money_by_date.get(date, 0)\n",
    "        current_amount += money_to_recupere\n",
    "        returned_money_by_date[date] = 0\n",
    "        \n",
    "        # see available money\n",
    "        day_trades = df[df[\"Date\"] == date]\n",
    "        \n",
    "        #print(returned_money_by_date)\n",
    "        day_trades_number = min(day_trades.shape[0], max_trades_by_day)\n",
    "        if day_trades_number == 0 or current_amount/day_trades_number < transaction_min:\n",
    "            date += timedelta(days=1)\n",
    "            continue\n",
    "        \n",
    "        money_by_trade = current_amount/day_trades_number\n",
    "        money_by_trade = min(money_by_trade, transaction_max)\n",
    "        \n",
    "        \n",
    "        # SORT BY EARNINGS\n",
    "        day_trades.sort_values(by=\"earnings_surprise\", ascending=False, inplace=True)\n",
    "        \n",
    "        trade_number = 0\n",
    "        for _, trade_row in day_trades.iterrows():\n",
    "            trade_number += 1\n",
    "            \n",
    "            current_amount -= money_by_trade\n",
    "            trade_fees += 2\n",
    "            # add money to exit\n",
    "            \n",
    "            money_to_be_returned = (1 + trade_row[\"win_percent\"]/100.0) * money_by_trade\n",
    "            \n",
    "            exit_date =date + timedelta(days=trade_row[\"exit_date\"])\n",
    "            returned_money_on_exit = returned_money_by_date.get(exit_date, 0)\n",
    "            returned_money_by_date[exit_date] = returned_money_on_exit + money_to_be_returned\n",
    "            \n",
    "            realized_trades.append(\n",
    "                [\n",
    "                    trade_row[\"Ticker\"], \n",
    "                    date, \n",
    "                    trade_row[\"exit_date\"],\n",
    "                    trade_row[\"Close\"], \n",
    "                    trade_row[\"exit_price\"], \n",
    "                    trade_row[\"win_percent\"]\n",
    "                ]\n",
    "            )\n",
    "            \n",
    "            if trade_number == day_trades_number:\n",
    "                break\n",
    "        \n",
    "        date += timedelta(days=1)\n",
    "        \n",
    "    rest_money = 0\n",
    "    for m in returned_money_by_date.values():\n",
    "        rest_money += m\n",
    "    \n",
    "    \n",
    "    win = rest_money + current_amount - total_amount\n",
    "    realized_trades_df = pd.DataFrame(\n",
    "        data=realized_trades, \n",
    "        columns=[\"Ticker\", \"Date\", \"Exit date\", \"Enter price\", \"Exit price\", \"win_percent\"])\n",
    "    return win, trade_fees, realized_trades_df\n",
    "\n",
    "def plot_trades(trades_df, plot_index):\n",
    "    \n",
    "    months = []\n",
    "    win_percents = []\n",
    "    \n",
    "    trades_df[\"month\"] = trades_df[\"Date\"].map(lambda x: datetime(x.year, x.month, 1))\n",
    "    \n",
    "    for month, month_trades in trades_df.groupby([\"month\"]):\n",
    "        trades_product = 1\n",
    "        months.append(month)\n",
    "        win_percents.append( month_trades[\"win_percent\"].mean())\n",
    "        \n",
    "    f = plt.figure(plot_index)\n",
    "    x = range(1, len(months) + 1)\n",
    "    plt.plot(x, win_percents)\n",
    "    plt.plot(x, len(win_percents) * [0])\n",
    "    plt.xticks(x, months, rotation='vertical')\n",
    "    f.show()\n",
    "    \n",
    "def analyse_results(df: pd.DataFrame, print_figures: bool = True, total_amount=20000, min_invest_per_trade=0.02, max_trades_by_day=4) -> None:\n",
    "    assert 0 < min_invest_per_trade <= 0.1\n",
    "    df = df.copy(deep=True)\n",
    "    min_date = df[\"Date\"].min()\n",
    "    max_date = df[\"Date\"].max()\n",
    "    days_number = (5.0 / 7.0) * (max_date - min_date).total_seconds() / (60 * 60 * 24)\n",
    "    win, trade_fees, realized_trades_df = simulate_trades(df, total_amount, min_invest_per_trade, max_trades_by_day)\n",
    "    \n",
    "    \n",
    "    x = PrettyTable()\n",
    "    x.field_names = [\"KPI\", \"value\"]\n",
    "\n",
    "    x.add_row([\"Enter cases number\", df.shape[0]])\n",
    "    x.add_row([\"Cases number per day\", round(df.shape[0]/days_number, 2)])\n",
    "    x.add_row([\"Average winning cases\", round(100 * df[df[\"win_percent\"] >= 0].shape[0] / df.shape[0], 1)])\n",
    "    x.add_row([\"Average win\", round(df[\"win_percent\"].mean(), 2)])\n",
    "    x.add_row([f\"Win for {round(total_amount/1000)} K€\", round(win)])\n",
    "    x.add_row([\"Trade fees\", trade_fees])\n",
    "    x.add_row([\"Trade number\", realized_trades_df.shape[0]])\n",
    "    x.add_row([\"Total margin\", round(100 * (win - trade_fees)/total_amount, 1)])\n",
    "    print(x)\n",
    "    df.loc[:, \"win_percent\"] = df[\"win_percent\"].astype(float)\n",
    "    df[[\"win_percent\"]].hist(bins=50)\n",
    "    \n",
    "    plot_trades(realized_trades_df, 2)\n",
    "    \n",
    "    if not print_figures:\n",
    "        return None\n",
    "    \n",
    "        \n",
    "    df.loc[:, \"month\"] = df['Date'].map(lambda x: f\"{x.month}/{x.year}\")\n",
    "    \n",
    "    \n",
    "    index = 3\n",
    "    labels = [\"month\", \"Country\", \"Sector\", \"week_previous_entries\", \"Volume_category\"]\n",
    "    for label in labels:\n",
    "        _performance_by(df, label, index)\n",
    "        index += 2\n",
    "        \n",
    "    return None\n",
    "\n",
    "def cut_results_surprises(df):\n",
    "    df = df.copy(deep=True)\n",
    "    df = df[df[\"days_to_next_result\"] >= 15]\n",
    "    df = df[df[\"days_since_last_result\"] > 0]\n",
    "    return df\n",
    "\n",
    "def print_cases(df: pd.DataFrame, bad=True, start=0, end=10):\n",
    "    \n",
    "    df = df.copy(deep=True)\n",
    "    ascending = True\n",
    "    if not bad:\n",
    "        ascending = False\n",
    "    df.sort_values(by=[\"win_percent\", \"Date\"], ascending=ascending, inplace=True)\n",
    "    df.reset_index(drop=True, inplace=True)\n",
    "    \n",
    "    columns = [\"Ticker\", \"Date\", \"win_percent\", \"company_short_name\", \"Country\", \"Sector\", \"days_to_next_result\", \"days_since_last_result\",\"exit_date\", \"Close\", \"Open\", \"exit_price\",]\n",
    "    df = df[columns]\n",
    "    df = df.loc[start:end]\n",
    "    return df\n",
    "    "
   ]
  },
  {
   "cell_type": "code",
   "execution_count": null,
   "metadata": {},
   "outputs": [],
   "source": [
    "trades = analyse_results(data_with_earnings, print_figures=True, max_trades_by_day=2, min_invest_per_trade=0.04)"
   ]
  },
  {
   "cell_type": "markdown",
   "metadata": {},
   "source": [
    "### Try machine learning"
   ]
  },
  {
   "cell_type": "code",
   "execution_count": null,
   "metadata": {},
   "outputs": [],
   "source": [
    "from sklearn.linear_model import LogisticRegression\n",
    "\n",
    "def transform_data(df):\n",
    "    df = df.copy(deep=True)\n",
    "    df[\"20/10\"] = df[\"Close_ema_20\"] / df[\"Close_ema_10\"]\n",
    "    df[\"10/5\"] = df[\"Close_ema_10\"] / df[\"Close_ema_5\"]\n",
    "    df[\"Open/Close\"] = df[\"Open\"] / df[\"Close\"]\n",
    "\n",
    "    df[\"evolution_diff_10\"] = df[\"evolution_diff_long_medium\"] / df[\"Close_ema_20\"]\n",
    "    df[\"evolution_diff_20\"] = df[\"evolution_diff_long_medium\"] / df[\"Close_ema_20\"]\n",
    "\n",
    "    columns = [\n",
    "        \"20/10\", \"10/5\", \"Open/Close\", \n",
    "        \"days_since_last_result\", \"days_to_next_result\", \"earnings_surprise\", \n",
    "        \"week_previous_entries\", \"evolution_diff_10\", \"evolution_diff_20\"]\n",
    "    \n",
    "    return df[columns]\n",
    "\n",
    "X = transform_data(data_with_earnings)\n",
    "y = data_with_earnings[\"win_percent\"].map(lambda x: 0 if x<0 else 1)\n",
    "clf = LogisticRegression(random_state=0).fit(X, y)\n",
    "\n"
   ]
  },
  {
   "cell_type": "code",
   "execution_count": null,
   "metadata": {},
   "outputs": [],
   "source": [
    "from sklearn.model_selection import cross_validate\n",
    "from sklearn import ensemble, neighbors, svm, tree\n",
    "algos = [\n",
    "    LogisticRegression(),\n",
    "    ensemble.AdaBoostClassifier(), \n",
    "    ensemble.BaggingClassifier(), \n",
    "    ensemble.ExtraTreesClassifier(),\n",
    "    ensemble.GradientBoostingClassifier(),\n",
    "    ensemble.RandomForestClassifier(n_estimators = 20),\n",
    "    neighbors.KNeighborsClassifier(n_neighbors = 3),\n",
    "    svm.SVC(probability=True),\n",
    "    svm.LinearSVC(max_iter=30000),\n",
    "    tree.DecisionTreeClassifier(),\n",
    "    tree.ExtraTreeClassifier()\n",
    "]\n",
    "\n",
    "def get_classification_results(alg, X, y, cv):\n",
    "    results = cross_validate(alg, X, y, cv=cv, return_train_score=True)\n",
    "    \n",
    "    return {\n",
    "        'alg_name': alg.__class__.__name__,\n",
    "        'train_score': round(results['train_score'].mean(), 2),\n",
    "        'test_score': round(results['test_score'].mean(), 2)\n",
    "    }\n",
    "\n",
    "get_classification_results(clf, X, y, 10)"
   ]
  },
  {
   "cell_type": "markdown",
   "metadata": {},
   "source": [
    "### Clean data"
   ]
  },
  {
   "cell_type": "code",
   "execution_count": null,
   "metadata": {},
   "outputs": [],
   "source": [
    "import numpy as np\n",
    "from datetime import datetime\n",
    "\n",
    "# Avoid coronavirus period\n",
    "cleaned_data = data_with_earnings[data_with_earnings[\"Date\"] < datetime(2020, 1, 1)] \n",
    "# Avoid 2018 little crisis\n",
    "cleaned_data = cleaned_data[(cleaned_data[\"Date\"] < datetime(2018, 12, 1)) | (cleaned_data[\"Date\"] > datetime(2018, 12, 31))]"
   ]
  },
  {
   "cell_type": "markdown",
   "metadata": {},
   "source": [
    "## Simulate top tickers"
   ]
  },
  {
   "cell_type": "code",
   "execution_count": null,
   "metadata": {},
   "outputs": [],
   "source": [
    "# Take 100 top tickers\n",
    "top_tickers = get_top_tickers(10, 70)\n",
    "top_companies_trades = cleaned_data[cleaned_data[\"Ticker\"].isin(top_tickers)]\n",
    "analyse_results(top_companies_trades, True, total_amount=20000, max_trades_by_day=2, min_invest_per_trade=0.04)\n"
   ]
  },
  {
   "cell_type": "code",
   "execution_count": null,
   "metadata": {},
   "outputs": [],
   "source": [
    "print_cases(df, True, 10, 30)"
   ]
  },
  {
   "cell_type": "code",
   "execution_count": null,
   "metadata": {},
   "outputs": [],
   "source": [
    "bad_tickers = [\"TSLA\", \"SHOP\", \"QCOM\", \"ORCL\", \"INTC\"]\n",
    "trades = top_companies_trades[~top_companies_trades[\"Ticker\"].isin(bad_tickers)]\n",
    "analyse_results(trades, False, total_amount=20000, max_trades_by_day=2, min_invest_per_trade=0.04)"
   ]
  },
  {
   "cell_type": "code",
   "execution_count": null,
   "metadata": {},
   "outputs": [],
   "source": [
    "ticker = \"\"\n",
    "ticker_trades = top_companies_trades[top_companies_trades[\"Ticker\"] == ticker]\n",
    "ticker_trades[[\"Ticker\", \"Date\", \"win_percent\", \"exit_date\", \"exit_reason\"]]\n",
    "print_results_by_column(top_companies_trades)"
   ]
  },
  {
   "cell_type": "markdown",
   "metadata": {},
   "source": [
    "## LABORATORY"
   ]
  },
  {
   "cell_type": "code",
   "execution_count": null,
   "metadata": {},
   "outputs": [],
   "source": [
    "# Try losing days\n",
    "\n",
    "df = cleaned_data.copy(deep=True)#[cleaned_data[\"Close\"] < 1 * cleaned_data[\"Open\"]]\n",
    "df = df[df[\"ema_evolution\"] < 0]\n",
    "df = df[df[\"days_to_next_result\"] > 15]\n",
    "analyse_results(df, False, total_amount=20000, max_trades_by_day=4, min_invest_per_trade=0.05)"
   ]
  },
  {
   "cell_type": "markdown",
   "metadata": {},
   "source": [
    "## END LABORATORY"
   ]
  },
  {
   "cell_type": "markdown",
   "metadata": {},
   "source": [
    "## Today results"
   ]
  },
  {
   "cell_type": "code",
   "execution_count": null,
   "metadata": {},
   "outputs": [],
   "source": [
    "from tadawol.strategies import recovery\n",
    "from tadawol.history import get_top_tickers\n",
    "from tadawol.earnings import get_earnings_data_on_all_dates\n",
    "\n",
    "strategy = recovery.Recovery()\n",
    "\n",
    "tickers = get_top_tickers(100)\n",
    "today_trades, today_exits = strategy.get_today_trades_and_exits(tickers)\n",
    "\n",
    "\n",
    "earnings_by_date = get_earnings_data_on_all_dates(today_trades)\n",
    "today_trades = pd.merge(today_trades, earnings_by_date, on=[\"Ticker\", \"Date\"])\n"
   ]
  },
  {
   "cell_type": "code",
   "execution_count": null,
   "metadata": {},
   "outputs": [],
   "source": [
    "today_trades.reset_index(drop=True, inplace=True)\n",
    "x_today = transform_data(today_trades)\n",
    "predictions = clf.predict_proba(x_today)\n",
    "predictions = [round(p[1], 2) for p in predictions]\n",
    "today_trades[\"score\"] = predictions\n"
   ]
  },
  {
   "cell_type": "code",
   "execution_count": null,
   "metadata": {
    "scrolled": true
   },
   "outputs": [],
   "source": [
    "today_trades.sort_values(by=[\"score\", \"earnings_surprise\"], ascending=False)[[\"Date\", \"Ticker\", \"earnings_surprise\", \"days_since_last_result\", \"days_to_next_result\", \"week_previous_entries\"]]"
   ]
  },
  {
   "cell_type": "code",
   "execution_count": null,
   "metadata": {},
   "outputs": [],
   "source": []
  }
 ],
 "metadata": {
  "kernelspec": {
   "display_name": "Python 3",
   "language": "python",
   "name": "python3"
  },
  "language_info": {
   "codemirror_mode": {
    "name": "ipython",
    "version": 3
   },
   "file_extension": ".py",
   "mimetype": "text/x-python",
   "name": "python",
   "nbconvert_exporter": "python",
   "pygments_lexer": "ipython3",
   "version": "3.7.4"
  }
 },
 "nbformat": 4,
 "nbformat_minor": 4
}
